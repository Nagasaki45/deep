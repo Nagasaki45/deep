{
 "cells": [
  {
   "cell_type": "markdown",
   "metadata": {},
   "source": [
    "# Evaluate The Performance of Deep Learning Models\n",
    "\n",
    "This chapter is based on chapter 7. The following are possible changes to evaluate chapter 7 model.\n",
    "\n",
    "## Automatic Verification Dataset\n",
    "\n",
    "```python\n",
    "model.compile(loss='binary_crossentropy', optimizer='adam', metrics=['accuracy'])\n",
    "model.fit(X, Y, validation_split=0.33)\n",
    "```\n",
    "\n",
    "The loss and metrics (in this case only 'accuracy') will be calculated on the validation split in each epoch.\n",
    "\n",
    "## Manual Verification Dataset\n",
    "\n",
    "```python\n",
    "from sklearn.model_selection import train_test_split\n",
    "X_train, X_test, y_train, y_test = train_test_split(X, Y, test_size=0.33)\n",
    "# ...\n",
    "model.fit(X_train, y_train, validation_data=(X_test, y_test))\n",
    "```\n",
    "\n",
    "After each epoch the loss and metrics are calculated for the validation data."
   ]
  },
  {
   "cell_type": "markdown",
   "metadata": {},
   "source": [
    "## Manual k-Fold Cross-Validation\n",
    "\n",
    "Read more about it on [scikit-learn website](http://scikit-learn.org/stable/modules/cross_validation.html), and about stratification [here](http://stats.stackexchange.com/q/49540)."
   ]
  },
  {
   "cell_type": "code",
   "execution_count": 1,
   "metadata": {
    "collapsed": false
   },
   "outputs": [
    {
     "name": "stderr",
     "output_type": "stream",
     "text": [
      "Using Theano backend.\n"
     ]
    }
   ],
   "source": [
    "from keras.models import Sequential\n",
    "from keras.layers import Dense\n",
    "import numpy as np\n",
    "from sklearn.model_selection import StratifiedKFold\n",
    "import pandas as pd"
   ]
  },
  {
   "cell_type": "code",
   "execution_count": 2,
   "metadata": {
    "collapsed": true
   },
   "outputs": [],
   "source": [
    "# Load data\n",
    "\n",
    "df = pd.read_csv('data/pima-indians-diabetes.csv')\n",
    "X = df.drop('type', axis=1).values\n",
    "Y = df.type.values"
   ]
  },
  {
   "cell_type": "code",
   "execution_count": 3,
   "metadata": {
    "collapsed": false
   },
   "outputs": [],
   "source": [
    "k_fold = StratifiedKFold(n_splits=10, shuffle=True)\n",
    "cv_accuracy = []"
   ]
  },
  {
   "cell_type": "code",
   "execution_count": 4,
   "metadata": {
    "collapsed": false
   },
   "outputs": [
    {
     "name": "stdout",
     "output_type": "stream",
     "text": [
      "accuracy: 0.766\n",
      "accuracy: 0.649\n",
      "accuracy: 0.714\n",
      "accuracy: 0.753\n",
      "accuracy: 0.649\n",
      "accuracy: 0.675\n",
      "accuracy: 0.571\n",
      "accuracy: 0.584\n",
      "accuracy: 0.645\n",
      "accuracy: 0.829\n"
     ]
    }
   ],
   "source": [
    "for train, test in k_fold.split(X, Y):\n",
    "    model = Sequential([\n",
    "        Dense(12, activation='relu', input_dim=X.shape[1]),\n",
    "        Dense(8, activation='relu'),\n",
    "        Dense(1, activation='sigmoid'),  # Sigmoid output is like a probability to get 1\n",
    "    ])\n",
    "    model.compile(loss='binary_crossentropy', optimizer='adam', metrics=['accuracy'])\n",
    "    model.fit(X[train], Y[train], nb_epoch=150, verbose=False)\n",
    "    loss, accuracy = model.evaluate(X[test], Y[test], verbose=False)\n",
    "    print('accuracy: {:.3f}'.format(accuracy))\n",
    "    cv_accuracy.append(accuracy)"
   ]
  },
  {
   "cell_type": "code",
   "execution_count": 5,
   "metadata": {
    "collapsed": false
   },
   "outputs": [
    {
     "name": "stdout",
     "output_type": "stream",
     "text": [
      "68.373206% (+/- 7.75%)\n"
     ]
    }
   ],
   "source": [
    "print('{:%} (+/- {:.2%})'.format(np.mean(cv_accuracy), np.std(cv_accuracy)))"
   ]
  }
 ],
 "metadata": {
  "kernelspec": {
   "display_name": "Python 3",
   "language": "python",
   "name": "python3"
  },
  "language_info": {
   "codemirror_mode": {
    "name": "ipython",
    "version": 3
   },
   "file_extension": ".py",
   "mimetype": "text/x-python",
   "name": "python",
   "nbconvert_exporter": "python",
   "pygments_lexer": "ipython3",
   "version": "3.6.0"
  }
 },
 "nbformat": 4,
 "nbformat_minor": 2
}

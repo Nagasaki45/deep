{
 "cells": [
  {
   "cell_type": "markdown",
   "metadata": {},
   "source": [
    "# Crash Course In Multilayer Perceptrons\n",
    "\n",
    "## Neurons\n",
    "\n",
    "![Neuron](graphics/neuron.png)\n",
    "\n",
    "- **Neuron weights:** One for each input and usually one for the bias (free term). They should be kept small.\n",
    "- **Activation:** The function from the summed input to the output fof the neuron. Nowadays the rectifier activation function (ReLU) is very popular.\n",
    "\n",
    "![ReLU activation function](https://upload.wikimedia.org/wikipedia/en/6/6c/Rectifier_and_softplus_functions.svg)\n",
    "\n",
    "## Training\n",
    "\n",
    "- **One hot encoding:** Where there is a separate column for each categorical label. E.g. 'male' or 'female' will have two columns in the dataset.\n",
    "- **Stochastic gradient decent:** For each datum find the error by running the input through the network and compare the output to the expected result.\n",
    "- **Back propagation:** The process of feeding the error back through the network to update the weights.\n",
    "- The weights can be updates separately for each datum. This is called **online learning**. \"Alternatively, the errors can be saved up across all of the training examples and the network can be updated at the end. This is called **batch learning** and is often more stable.\"\n",
    "- \"The amount that weights are updated is controlled by a configuration parameter called the **learning rate**.\"\n",
    "- \"**Momentum** is a term that incorporates the properties from the previous weight update to allow the weights to continue to change in the same direction even when there is less error being calculated.\"\n",
    "- \"**Learning Rate Decay** is used to decrease the learning rate over epochs to allow the network to make large changes to the weights at the beginning and smaller fine tuning changes later in the training schedule.\""
   ]
  }
 ],
 "metadata": {
  "kernelspec": {
   "display_name": "Python 3",
   "language": "python",
   "name": "python3"
  },
  "language_info": {
   "codemirror_mode": {
    "name": "ipython",
    "version": 3
   },
   "file_extension": ".py",
   "mimetype": "text/x-python",
   "name": "python",
   "nbconvert_exporter": "python",
   "pygments_lexer": "ipython3",
   "version": "3.6.0"
  }
 },
 "nbformat": 4,
 "nbformat_minor": 2
}
